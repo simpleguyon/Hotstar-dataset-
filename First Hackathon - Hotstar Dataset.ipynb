{
 "cells": [
  {
   "cell_type": "code",
   "execution_count": 2,
   "metadata": {},
   "outputs": [],
   "source": [
    "import os \n",
    "import pandas as pd\n",
    "import numpy as np\n",
    "#from imblearn.over_sampling import SMOTE"
   ]
  },
  {
   "cell_type": "code",
   "execution_count": 3,
   "metadata": {},
   "outputs": [
    {
     "ename": "ValueError",
     "evalue": "Unexpected character found when decoding 'true'",
     "output_type": "error",
     "traceback": [
      "\u001b[1;31m---------------------------------------------------------------------------\u001b[0m",
      "\u001b[1;31mValueError\u001b[0m                                Traceback (most recent call last)",
      "\u001b[1;32m<ipython-input-3-300803e61eda>\u001b[0m in \u001b[0;36m<module>\u001b[1;34m()\u001b[0m\n\u001b[0;32m      1\u001b[0m \u001b[1;31m# os.chdir(\"D:/GreyAtom/Hackathon/hotstar_dataset\")\u001b[0m\u001b[1;33m\u001b[0m\u001b[1;33m\u001b[0m\u001b[0m\n\u001b[1;32m----> 2\u001b[1;33m \u001b[0mdf\u001b[0m \u001b[1;33m=\u001b[0m \u001b[0mpd\u001b[0m\u001b[1;33m.\u001b[0m\u001b[0mread_json\u001b[0m\u001b[1;33m(\u001b[0m\u001b[1;34m\"train_data.json\"\u001b[0m\u001b[1;33m)\u001b[0m\u001b[1;33m\u001b[0m\u001b[0m\n\u001b[0m",
      "\u001b[1;32mD:\\anaconda\\lib\\site-packages\\pandas\\io\\json\\json.py\u001b[0m in \u001b[0;36mread_json\u001b[1;34m(path_or_buf, orient, typ, dtype, convert_axes, convert_dates, keep_default_dates, numpy, precise_float, date_unit, encoding, lines, chunksize, compression)\u001b[0m\n\u001b[0;32m    420\u001b[0m         \u001b[1;32mreturn\u001b[0m \u001b[0mjson_reader\u001b[0m\u001b[1;33m\u001b[0m\u001b[0m\n\u001b[0;32m    421\u001b[0m \u001b[1;33m\u001b[0m\u001b[0m\n\u001b[1;32m--> 422\u001b[1;33m     \u001b[0mresult\u001b[0m \u001b[1;33m=\u001b[0m \u001b[0mjson_reader\u001b[0m\u001b[1;33m.\u001b[0m\u001b[0mread\u001b[0m\u001b[1;33m(\u001b[0m\u001b[1;33m)\u001b[0m\u001b[1;33m\u001b[0m\u001b[0m\n\u001b[0m\u001b[0;32m    423\u001b[0m     \u001b[1;32mif\u001b[0m \u001b[0mshould_close\u001b[0m\u001b[1;33m:\u001b[0m\u001b[1;33m\u001b[0m\u001b[0m\n\u001b[0;32m    424\u001b[0m         \u001b[1;32mtry\u001b[0m\u001b[1;33m:\u001b[0m\u001b[1;33m\u001b[0m\u001b[0m\n",
      "\u001b[1;32mD:\\anaconda\\lib\\site-packages\\pandas\\io\\json\\json.py\u001b[0m in \u001b[0;36mread\u001b[1;34m(self)\u001b[0m\n\u001b[0;32m    527\u001b[0m             )\n\u001b[0;32m    528\u001b[0m         \u001b[1;32melse\u001b[0m\u001b[1;33m:\u001b[0m\u001b[1;33m\u001b[0m\u001b[0m\n\u001b[1;32m--> 529\u001b[1;33m             \u001b[0mobj\u001b[0m \u001b[1;33m=\u001b[0m \u001b[0mself\u001b[0m\u001b[1;33m.\u001b[0m\u001b[0m_get_object_parser\u001b[0m\u001b[1;33m(\u001b[0m\u001b[0mself\u001b[0m\u001b[1;33m.\u001b[0m\u001b[0mdata\u001b[0m\u001b[1;33m)\u001b[0m\u001b[1;33m\u001b[0m\u001b[0m\n\u001b[0m\u001b[0;32m    530\u001b[0m         \u001b[0mself\u001b[0m\u001b[1;33m.\u001b[0m\u001b[0mclose\u001b[0m\u001b[1;33m(\u001b[0m\u001b[1;33m)\u001b[0m\u001b[1;33m\u001b[0m\u001b[0m\n\u001b[0;32m    531\u001b[0m         \u001b[1;32mreturn\u001b[0m \u001b[0mobj\u001b[0m\u001b[1;33m\u001b[0m\u001b[0m\n",
      "\u001b[1;32mD:\\anaconda\\lib\\site-packages\\pandas\\io\\json\\json.py\u001b[0m in \u001b[0;36m_get_object_parser\u001b[1;34m(self, json)\u001b[0m\n\u001b[0;32m    544\u001b[0m         \u001b[0mobj\u001b[0m \u001b[1;33m=\u001b[0m \u001b[1;32mNone\u001b[0m\u001b[1;33m\u001b[0m\u001b[0m\n\u001b[0;32m    545\u001b[0m         \u001b[1;32mif\u001b[0m \u001b[0mtyp\u001b[0m \u001b[1;33m==\u001b[0m \u001b[1;34m'frame'\u001b[0m\u001b[1;33m:\u001b[0m\u001b[1;33m\u001b[0m\u001b[0m\n\u001b[1;32m--> 546\u001b[1;33m             \u001b[0mobj\u001b[0m \u001b[1;33m=\u001b[0m \u001b[0mFrameParser\u001b[0m\u001b[1;33m(\u001b[0m\u001b[0mjson\u001b[0m\u001b[1;33m,\u001b[0m \u001b[1;33m**\u001b[0m\u001b[0mkwargs\u001b[0m\u001b[1;33m)\u001b[0m\u001b[1;33m.\u001b[0m\u001b[0mparse\u001b[0m\u001b[1;33m(\u001b[0m\u001b[1;33m)\u001b[0m\u001b[1;33m\u001b[0m\u001b[0m\n\u001b[0m\u001b[0;32m    547\u001b[0m \u001b[1;33m\u001b[0m\u001b[0m\n\u001b[0;32m    548\u001b[0m         \u001b[1;32mif\u001b[0m \u001b[0mtyp\u001b[0m \u001b[1;33m==\u001b[0m \u001b[1;34m'series'\u001b[0m \u001b[1;32mor\u001b[0m \u001b[0mobj\u001b[0m \u001b[1;32mis\u001b[0m \u001b[1;32mNone\u001b[0m\u001b[1;33m:\u001b[0m\u001b[1;33m\u001b[0m\u001b[0m\n",
      "\u001b[1;32mD:\\anaconda\\lib\\site-packages\\pandas\\io\\json\\json.py\u001b[0m in \u001b[0;36mparse\u001b[1;34m(self)\u001b[0m\n\u001b[0;32m    636\u001b[0m \u001b[1;33m\u001b[0m\u001b[0m\n\u001b[0;32m    637\u001b[0m         \u001b[1;32melse\u001b[0m\u001b[1;33m:\u001b[0m\u001b[1;33m\u001b[0m\u001b[0m\n\u001b[1;32m--> 638\u001b[1;33m             \u001b[0mself\u001b[0m\u001b[1;33m.\u001b[0m\u001b[0m_parse_no_numpy\u001b[0m\u001b[1;33m(\u001b[0m\u001b[1;33m)\u001b[0m\u001b[1;33m\u001b[0m\u001b[0m\n\u001b[0m\u001b[0;32m    639\u001b[0m \u001b[1;33m\u001b[0m\u001b[0m\n\u001b[0;32m    640\u001b[0m         \u001b[1;32mif\u001b[0m \u001b[0mself\u001b[0m\u001b[1;33m.\u001b[0m\u001b[0mobj\u001b[0m \u001b[1;32mis\u001b[0m \u001b[1;32mNone\u001b[0m\u001b[1;33m:\u001b[0m\u001b[1;33m\u001b[0m\u001b[0m\n",
      "\u001b[1;32mD:\\anaconda\\lib\\site-packages\\pandas\\io\\json\\json.py\u001b[0m in \u001b[0;36m_parse_no_numpy\u001b[1;34m(self)\u001b[0m\n\u001b[0;32m    851\u001b[0m         \u001b[1;32mif\u001b[0m \u001b[0morient\u001b[0m \u001b[1;33m==\u001b[0m \u001b[1;34m\"columns\"\u001b[0m\u001b[1;33m:\u001b[0m\u001b[1;33m\u001b[0m\u001b[0m\n\u001b[0;32m    852\u001b[0m             self.obj = DataFrame(\n\u001b[1;32m--> 853\u001b[1;33m                 loads(json, precise_float=self.precise_float), dtype=None)\n\u001b[0m\u001b[0;32m    854\u001b[0m         \u001b[1;32melif\u001b[0m \u001b[0morient\u001b[0m \u001b[1;33m==\u001b[0m \u001b[1;34m\"split\"\u001b[0m\u001b[1;33m:\u001b[0m\u001b[1;33m\u001b[0m\u001b[0m\n\u001b[0;32m    855\u001b[0m             decoded = {str(k): v for k, v in compat.iteritems(\n",
      "\u001b[1;31mValueError\u001b[0m: Unexpected character found when decoding 'true'"
     ]
    }
   ],
   "source": [
    "# os.chdir(\"D:/GreyAtom/Hackathon/hotstar_dataset\")\n",
    "df = pd.read_json(\"train_data.json\")"
   ]
  },
  {
   "cell_type": "code",
   "execution_count": null,
   "metadata": {},
   "outputs": [],
   "source": [
    "dfT = df.T\n",
    "dfT.head()"
   ]
  },
  {
   "cell_type": "code",
   "execution_count": null,
   "metadata": {},
   "outputs": [],
   "source": [
    "dfT[\"titles\"]=dfT[\"titles\"].str.split(\",\")\n",
    "dfT[\"titles_count\"]=dfT[\"titles\"].apply(lambda x:len(x))"
   ]
  },
  {
   "cell_type": "code",
   "execution_count": null,
   "metadata": {},
   "outputs": [],
   "source": [
    "dfT.head()"
   ]
  },
  {
   "cell_type": "code",
   "execution_count": null,
   "metadata": {},
   "outputs": [],
   "source": [
    "Metros = [\"mumbai\", \"gurgaon\", \"kolkata\", \"delhi\", \"chennai\", \"bangalore\", \"pune\", \"hyderabad\", \"new delhi\", \"delhi\", \"navi mumbai\"]\n",
    "\n",
    "dfT[\"city_only\"] = dfT[\"cities\"].apply(lambda x: [i.rsplit(\":\")[0] for i in x.rsplit(\",\")])\n",
    "dfT[\"metro\"] = dfT[\"city_only\"].apply(lambda x: sum([1 for i in x if i in Metros]))\n",
    "dfT['non_metro'] = dfT['city_only'].apply(lambda x: sum([1 for i in x if i not in Metros]))"
   ]
  },
  {
   "cell_type": "code",
   "execution_count": null,
   "metadata": {},
   "outputs": [],
   "source": [
    "dfT.head()"
   ]
  },
  {
   "cell_type": "code",
   "execution_count": null,
   "metadata": {},
   "outputs": [],
   "source": [
    "dfT[\"final_hour\"] = dfT[\"tod\"].apply(lambda x: [i.rsplit(\":\")[0] for i in x.rsplit(\",\")])\n",
    "\n",
    "dfT[\"Morning Viewer\"] = dfT[\"final_hour\"].apply(lambda x: sum([1 for i in x if int(i)<=12]))\n",
    "dfT[\"Afternoon Viewers\"] = dfT[\"final_hour\"].apply(lambda x: sum([1 for i in x if int(i)>12 and int(i)<17]))\n",
    "dfT[\"Evening Viewers\"] = dfT[\"final_hour\"].apply(lambda x:sum([1 for i in x if int(i)>=17 and int(i)<20]))\n",
    "dfT[\"Night Viewers\"] = dfT[\"final_hour\"].apply(lambda x: sum([1 for i in x if int(i)>=20 and int(i)<=24]))"
   ]
  },
  {
   "cell_type": "code",
   "execution_count": null,
   "metadata": {},
   "outputs": [],
   "source": [
    "dfT.head()"
   ]
  },
  {
   "cell_type": "code",
   "execution_count": null,
   "metadata": {},
   "outputs": [],
   "source": [
    "weekdays = [2, 3, 4, 5, 6]\n",
    "dfT[\"dow_list\"] = dfT[\"dow\"].apply(lambda x: [i.rsplit(\":\")[0] for i in x.rsplit(\",\")])\n",
    "\n",
    "# dfT[\"Sunday\"] = dfT[\"dow_list\"].apply(lambda x: sum([1 for i in x if int(i) == 1]))\n",
    "# dfT[\"Monday\"] = dfT[\"dow_list\"].apply(lambda x: sum([1 for i in x if int(i) == 2]))\n",
    "# dfT[\"Tuesday\"] = dfT[\"dow_list\"].apply(lambda x: sum([1 for i in x if int(i) == 3]))\n",
    "# dfT[\"Wednesday\"] = dfT[\"dow_list\"].apply(lambda x: sum([1 for i in x if int(i) == 4]))\n",
    "# dfT[\"Thursday\"] = dfT[\"dow_list\"].apply(lambda x: sum([1 for i in x if int(i) == 5]))\n",
    "# dfT[\"Friday\"] = dfT[\"dow_list\"].apply(lambda x: sum([1 for i in x if int(i) == 6]))\n",
    "# dfT[\"Saturday\"] = dfT[\"dow_list\"].apply(lambda x: sum([1 for i in x if int(i) == 7]))\n",
    "\n",
    "dfT[\"Weekday\"] = dfT[\"dow_list\"].apply(lambda x: sum([1 for i in x if int(i) in weekdays]))\n",
    "dfT[\"Weekend\"] = dfT[\"dow_list\"].apply(lambda x: sum([1 for i in x if int(i) not in weekdays]))"
   ]
  },
  {
   "cell_type": "code",
   "execution_count": null,
   "metadata": {},
   "outputs": [],
   "source": [
    "dfT.head()"
   ]
  },
  {
   "cell_type": "code",
   "execution_count": null,
   "metadata": {},
   "outputs": [],
   "source": [
    "Sports = ['Cricket', 'Football', 'Badminton', 'Sport', 'Formula1', 'Hockey', 'Kabaddi', 'Table Tennis', 'Tennis', 'Volleyball', 'Athletics', 'FormulaE', 'Boxing', 'Swimming', 'IndiaVsSa']\n",
    "Television = ['Wildlife', 'LiveTV', 'TalkShow', 'Reality', 'Awards', 'Travel', 'Science', 'Documentary', 'Mythology', 'Kids']\n",
    "Movies = ['Drama', 'Family', 'Crime', 'Romance', 'Action', 'Comedy', 'Thriller', 'Teen', 'Horror', 'NA']\n",
    "\n",
    "dfT[\"genres_list\"] = dfT[\"genres\"].apply(lambda x: [i.rsplit(\":\")[0] for i in x.rsplit(\",\")])\n",
    "\n",
    "# genres_count = {}\n",
    "# for i in dfT['genres']:\n",
    "#     for j in (i.split(',')):\n",
    "#         if j.split(':')[0] not in genres_count:\n",
    "#              genres_count[j.split(':')[0]]= 1\n",
    "#         else:\n",
    "#              genres_count[j.split(':')[0]] += 1\n",
    "\n",
    "# for key, value in genres_count.items():\n",
    "#     dfT[key] = \"\"\n",
    "#     dfT[key] = dfT[\"genres_list\"].apply(lambda x: sum([1 for i in x if i == key]))\n",
    "\n",
    "dfT['Sports'] = dfT[\"genres_list\"].apply(lambda x: sum([1 for i in x if i in Sports]))\n",
    "dfT['Television'] = dfT[\"genres_list\"].apply(lambda x: sum([1 for i in x if i in Television]))\n",
    "dfT['Movies'] = dfT[\"genres_list\"].apply(lambda x: sum([1 for i in x if i in Movies]))"
   ]
  },
  {
   "cell_type": "code",
   "execution_count": null,
   "metadata": {},
   "outputs": [],
   "source": [
    "dfT.head()"
   ]
  },
  {
   "cell_type": "code",
   "execution_count": null,
   "metadata": {},
   "outputs": [],
   "source": [
    "dfT[\"viewing_time_only\"]=dfT[\"tod\"].apply(lambda x: [i.split(\":\")[1] for i in x.split(\",\")])\n",
    "dfT[\"Summed_time\"]=dfT[\"viewing_time_only\"].apply(lambda x: sum([int(i) for i in x ]))\n"
   ]
  },
  {
   "cell_type": "code",
   "execution_count": null,
   "metadata": {},
   "outputs": [],
   "source": [
    "dfT.head()"
   ]
  },
  {
   "cell_type": "code",
   "execution_count": null,
   "metadata": {},
   "outputs": [],
   "source": [
    "dfT = dfT.drop(['cities'],1)"
   ]
  },
  {
   "cell_type": "code",
   "execution_count": null,
   "metadata": {},
   "outputs": [],
   "source": [
    "dfT=dfT.drop(['dow','genres','titles','tod','city_only','final_hour','viewing_time_only','dow_list'],1)"
   ]
  },
  {
   "cell_type": "code",
   "execution_count": null,
   "metadata": {},
   "outputs": [],
   "source": [
    "dfT=dfT.drop(['genres_list'],1)"
   ]
  },
  {
   "cell_type": "code",
   "execution_count": null,
   "metadata": {},
   "outputs": [],
   "source": [
    "dfT.head()"
   ]
  },
  {
   "cell_type": "code",
   "execution_count": null,
   "metadata": {},
   "outputs": [],
   "source": [
    "dfT['segment']=dfT['segment'].replace('neg',0).replace('pos',1)"
   ]
  },
  {
   "cell_type": "code",
   "execution_count": null,
   "metadata": {},
   "outputs": [],
   "source": [
    "dfT.head()"
   ]
  },
  {
   "cell_type": "code",
   "execution_count": null,
   "metadata": {},
   "outputs": [],
   "source": [
    "list(dfT)"
   ]
  },
  {
   "cell_type": "code",
   "execution_count": null,
   "metadata": {},
   "outputs": [],
   "source": []
  }
 ],
 "metadata": {
  "kernelspec": {
   "display_name": "Python 3",
   "language": "python",
   "name": "python3"
  },
  "language_info": {
   "codemirror_mode": {
    "name": "ipython",
    "version": 3
   },
   "file_extension": ".py",
   "mimetype": "text/x-python",
   "name": "python",
   "nbconvert_exporter": "python",
   "pygments_lexer": "ipython3",
   "version": "3.6.5"
  }
 },
 "nbformat": 4,
 "nbformat_minor": 2
}
